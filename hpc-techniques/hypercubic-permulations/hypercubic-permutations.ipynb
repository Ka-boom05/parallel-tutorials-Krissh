{
 "cells": [
  {
   "cell_type": "markdown",
   "metadata": {},
   "source": [
    "# How to Get to Everyone"
   ]
  },
  {
   "cell_type": "markdown",
   "metadata": {},
   "source": [
    "Last meeting, we hosted a panel with various GT faculty. During the panel, there was a little discussion on how you can collect attendance."
   ]
  },
  {
   "cell_type": "markdown",
   "metadata": {},
   "source": [
    "One way to do it is one by one, passing the attendance sheet around the room, one person at a time.\n",
    "\n",
    "Person -> Person -> Person -> Person -> Person -> ... -> Person\n",
    "\n",
    "This takes linear time, or O(n). This algorithm also makes use of people terribly, with between two to one people active at any given time.\n",
    "\n",
    "Person -> Person | Person - idle | Person - idle | Person -idle | ... | Person - idle"
   ]
  },
  {
   "cell_type": "markdown",
   "metadata": {},
   "source": [
    "Another suggestion on how to do attendance was by row. Each row would have an attendance sheet, passing it from one end to another, then the last person of each row will pass the attendance sheet forward, accumulating all the sheets in the first row for the SUCO president to tally.\n",
    "\n",
    "Person -> Person -> Person -> Person V\n",
    "\n",
    "Person -> Person -> Person -> Person V\n",
    "\n",
    "Person -> Person -> Person -> Person V\n",
    "\n",
    "Person -> Person -> Person -> Person V\n",
    "\n",
    "Person -> Person -> Person -> Person V\n",
    "\n",
    "Person -> Person -> Person -> Person V\n",
    "\n",
    "                                    SUCO president\n",
    "\n",
    "This algorithm takes two steps. First each row gathers the names of the row. Then the last person in the row passes the sheet forward. \n",
    "\n",
    "Gathering the names of the row can be done in parallel. This will take O(__total_people__ / __total_rows__) assuming each row has an equal number of people. If not, this step is bound by the row with the most people. \n",
    "\n",
    "The next step takes O(__total_rows__). But, let's pretend people between rows are not as good at getting each other's attention so it takes a second for each pass to occur. This adds an additional part to the runtime that is tied to communication. Let's say O(__time_taken_to_get_someone_else's_attention__) * __total_rows__.**\n",
    "\n",
    "And so, the total time it takes to run this algorithm is O(__total_people__ / __total_rows__) + O(__total_rows__) + O(__time_taken_to_get_someone_else's_attention__) * __total_rows__.**\n",
    "\n",
    "**Further details about communication and HPC considerations for algorithms can be found on the internet or in future notebooks"
   ]
  },
  {
   "cell_type": "markdown",
   "metadata": {},
   "source": [
    "This algorithm definitely had more people involved at once compared to the first algorithm. But, there are many spots in the algorithm that could go wrong, like having too many people in one of the rows(load balancing issue), or having too many rows(communication takes over). These factors will slow the algorithm down. \n",
    "\n",
    "But, there is another way to do attendance. Sarkar mentioned it briefly, but there is a way you can whittle the algorithm runtime to O(log(n)). He also mentioned that you'd have to rearrange yourselves into trees, and that is true, this algorithm will create a communication pattern that looks like a binary tree."
   ]
  }
 ],
 "metadata": {
  "language_info": {
   "name": "python"
  },
  "orig_nbformat": 4
 },
 "nbformat": 4,
 "nbformat_minor": 2
}
