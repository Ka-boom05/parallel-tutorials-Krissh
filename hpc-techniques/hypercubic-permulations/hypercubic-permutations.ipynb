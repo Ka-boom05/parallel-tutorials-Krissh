{
 "cells": [
  {
   "cell_type": "markdown",
   "metadata": {},
   "source": [
    "# How to Get to Everyone"
   ]
  },
  {
   "cell_type": "markdown",
   "metadata": {},
   "source": [
    "Last meeting, we hosted a panel with various GT faculty. During the panel, there was a little discussion on how you can collect attendance."
   ]
  },
  {
   "cell_type": "markdown",
   "metadata": {},
   "source": [
    "One way to do it is one by one, passing the attendance sheet around the room, one person at a time.\n",
    "\n",
    "Person -> Person -> Person -> Person -> Person -> ... -> Person\n",
    "\n",
    "This takes linear time, or O(n). This algorithm also makes use of people terribly, with between two to one people active at any given time.\n",
    "\n",
    "Person -> Person | Person - idle | Person - idle | Person -idle | ... | Person - idle"
   ]
  },
  {
   "cell_type": "markdown",
   "metadata": {},
   "source": [
    "Another suggestion on how to do attendance was by row. Each row would have an attendance sheet, passing it from one end to another, then the last person of each row will pass the attendance sheet forward, accumulating all the sheets in the first row for the SUCO president to tally.\n",
    "\n",
    "Person -> Person -> Person -> Person V\n",
    "\n",
    "Person -> Person -> Person -> Person V\n",
    "\n",
    "Person -> Person -> Person -> Person V\n",
    "\n",
    "Person -> Person -> Person -> Person V\n",
    "\n",
    "Person -> Person -> Person -> Person V\n",
    "\n",
    "Person -> Person -> Person -> Person V\n",
    "\n",
    "                                    SUCO president\n",
    "\n",
    "This algorithm takes two steps. First each row gathers the names of the row. Then the last person in the row passes the sheet forward. \n",
    "\n",
    "Gathering the names of the row can be done in parallel. This will take O(__total_people__ / __total_rows__) assuming each row has an equal number of people. If not, this step is bound by the row with the most people. Let us also assume people in the same row work faster together (as if they are one processor), so there is no communication overhead here.\n",
    "\n",
    "The next step takes O(__total_rows__). But, let's pretend people between rows are not as good at getting each other's attention so it takes a second for each pass to occur. This adds an additional part to the runtime that is tied to communication. Let's say O(__time_taken_to_get_someone_else's_attention__) * __total_rows__.**\n",
    "\n",
    "And so, the total time it takes to run this algorithm is O(__total_people__ / __total_rows__) + O(__total_rows__) + O(__time_taken_to_get_someone_else's_attention__) * __total_rows__.**\n",
    "\n",
    "**Further details about communication and HPC considerations for algorithms can be found on the internet or in future notebooks"
   ]
  },
  {
   "cell_type": "markdown",
   "metadata": {},
   "source": [
    "This algorithm definitely had more people involved at once compared to the first algorithm. But, there are many spots in the algorithm that could go wrong, like having too many people in one of the rows(load balancing issue), or having too many rows(communication takes over). These factors will slow the algorithm down (as well as any other parallel algorithm). \n",
    "\n",
    "But, there is another way to do attendance. Sarkar mentioned it briefly, but there is a way you can whittle the algorithm runtime to O(log(n)). He also mentioned that you'd have to rearrange yourselves into trees, and that is true, this algorithm will create a communication pattern that looks like a binary tree."
   ]
  },
  {
   "cell_type": "markdown",
   "metadata": {},
   "source": [
    "A binary tree* looks like this:\n",
    "\n",
    "![Binary tree for visual purposes](binary-tree.png)\n",
    "\n",
    "It is only here to give a first look at what's going on in this algorithm we're discussing. We're not going to chat about how to reverse a binary tree.\n",
    "\n",
    "*If you haven't heard of binary trees before, here's a comprehensive [guide](http://cslibrary.stanford.edu/110/BinaryTrees.html). This is way more than you need to know relative to what's being explained in this notebook, but it will help you in the future when it comes to devising algorithms. You'll also get a first look at this in CS 1332, or Data Structures and Algorithms."
   ]
  },
  {
   "cell_type": "markdown",
   "metadata": {},
   "source": [
    "The main thing to note from this visual is that each level has double the nodes than the previous one. This is exponential growth, specifically 2^n. Bad as an algorithm time, great for scaling parallel algorithms.\n"
   ]
  },
  {
   "cell_type": "markdown",
   "metadata": {},
   "source": [
    "Now, in our algorithm, we're going to have half the room write their name on individual sheets of paper. \n",
    "\n",
    "Then, in pairs, they will give their sheet of papers to someone who doesn't have one. They will merge the sheets of paper together, write their name on it, and in pairs, hand their sheets over to someone who still doesn't have one. \n",
    "\n",
    "Rinse and repeat until there is only one person with the merged sheet of paper. Realistically, paper can't be merged and this person will just end up with a pile of paper. (if you are trying to visualize this, the binary tree above is what it should look like)."
   ]
  },
  {
   "cell_type": "markdown",
   "metadata": {},
   "source": [
    "This algorithm still suffers from the case where eventually most people aren't doing anything (there are alternate algorithms that keep everyone occupied. To be discussed), but it takes only __log(n)__ rounds for the last person to receive the completed attendance sheet. In this case, communication rounds scale with number of people rather than number of rows from the previous algorithm. Moreover, we are able to consider each person their own processor and still have a faster algorithm than the row algorithm (discussed in a later notebook)."
   ]
  },
  {
   "cell_type": "markdown",
   "metadata": {},
   "source": [
    "### __The Details__"
   ]
  },
  {
   "cell_type": "markdown",
   "metadata": {},
   "source": [
    "The last section we gave a high level description of an algorithm. Now let's look into the details.\n",
    "\n",
    "We mentioned that people would be handing attendance sheets to other people such that each person who receives the sheets has two sheets. How do we coordinate that? For all we know, someone could receive three sheets of paper, or someone who should have received a paper is empty-handed. People who've already received a paper might also get involved in later rounds. It's very easy for this to devolve into chaos without any agreement on who receives from who.\n",
    "\n",
    "We could have everyone arrange themselves into a binary tree structure. But in a lecture hall that will result in a lot shuffling. Sometimes you don't have the luxury of shuffling people around."
   ]
  },
  {
   "cell_type": "markdown",
   "metadata": {},
   "source": [
    "Before we go into routing, try to think about how _you would coordinate people in receiving and sending papers_.\n",
    "\n",
    "Things to consider:\n",
    "- People don't have to be one and done. They can take part in later rounds.\n",
    "- People can recieve as many papers as they want, but do note that this might result in a bottleneck.\n",
    "- People can send as many papers as they want, but a person doing 4 sends will take longer than someone doing 2 sends.\n",
    "- The end goal here is for one person to end up with all the papers, but, we're not opposed to everyone receiving all the papers.\n"
   ]
  },
  {
   "cell_type": "markdown",
   "metadata": {},
   "source": [
    "#### __Bit-fixing routing__"
   ]
  },
  {
   "cell_type": "markdown",
   "metadata": {},
   "source": [
    "Bit-fixing routing is quite the clever way of routing without any need for an external source to determine routes. Moreover, with algorithms like the one we discussed, it enables a no-collisions way to work in tandem. (As a standalone means of routing there are flaws, but they are not present in what we're using it for). "
   ]
  },
  {
   "cell_type": "markdown",
   "metadata": {},
   "source": [
    "#### __Binary Numbers__"
   ]
  },
  {
   "cell_type": "markdown",
   "metadata": {},
   "source": [
    "Before we get into it, you're going to need to know what binary numbers are. They are key to this routing method. If you do, skip to the next section. \n",
    "\n",
    "You've likely been working in a base 10(aka. decimal) number system all your life. And you probably would have stayed in that system had you not decided to touch computers. But you did, so now we're going to give you an overview of binary numbers, or a base 2 number system."
   ]
  },
  {
   "cell_type": "markdown",
   "metadata": {},
   "source": [
    "__Number Bases__\n",
    "\n",
    "The base 10 system has 10 unique digits: 0, 1, 2, 3, 4, 5, 6, 7, 8, 9.\n",
    "\n",
    "Every single number in the decimal system is represented by some combination of these numbers. Sometimes there are multiple digits stuck together to represent numbers in the 10s or 1000s. \n",
    "\n",
    "Ex. 5, 39, 123\n",
    "\n",
    "You know what the above values are cause you've been exposed to this system since daycare. But why are these values the values that they are? Why is the 1 in 123 representative of 100 and not 1? "
   ]
  },
  {
   "cell_type": "markdown",
   "metadata": {},
   "source": [
    "__Translating numbers to base 10__\n",
    "\n",
    "Let's look at a number. What value do you think this is?\n",
    "\n",
    "11011010\n",
    "\n",
    "Without any knowledge of how bases work, you might interpret this as eleven million eleven thousand ten assuming it's base 10. But what if it wasn't base 10? This number could literally represent infinite other values. There's a base out there that interprets this as 1(base 11011010). In the computer world you can no longer assume every number you see is meant to be interpreted in base 10. \n",
    "\n",
    "What's truly fascinating is that depending on the base you interpret this number, you get different values. This is the goal of this section, to acquaint you with how to interpret numbers in other bases, as computer science will expose you to other base systems such as base 2 (binary), base 8 (octal), and base 16 (hexadecimal).\n",
    "\n",
    "Let's take the binary number and interpret it in base 10, 3, and 2.\n",
    "\n",
    "Base 10:\n",
    "\n",
    "11011010 -> eleven million eleven thousand ten.\n",
    "\n",
    "Why do we know this? Well if we number the position of each digit, starting with 0 for the right most position, and expand it as so:\n",
    "\n",
    "$$1 * 10^7 + 1 * 10^6 + 0 * 10^5 + 1 * 10^4 + 1 * 10^3 + 0 * 10^2 + 1 * 10^1 + 0 * 10^0 = 11011010$$\n",
    "\n",
    "$$10,000,000 + 1,000,000 + 0 + 10,000 + 1,000 + 0 + 10 + 0 = 11011010$$\n",
    "\n",
    "This doesn't really demonstrate the effect of bases as we default to interpreting things in base 10, so let's interpret the number in the base 3 system and translate it to base 10 so that we can understand its value:\n",
    "\n",
    "$$1 * 3^7 + 1 * 3^6 + 0 * 3^5 + 1 * 3^4 + 1 * 3^3 + 0 * 3^2 + 1 * 3^1 + 0 * 3^0 = 3027$$\n",
    "\n",
    "$$2187 + 729 + 0 + 81 + 9 + 0 + 3 + 0 = 3027$$\n",
    "\n",
    "Now let's interpret it as base 2 and translate it to base 10:\n",
    "\n",
    "$$1 * 2^7 + 1 * 2^6 + 0 * 2^5 + 1 * 2^4 + 1 * 2^3 + 0 * 2^2 + 1 * 2^1 + 0 * 2^0 = 218$$\n",
    "\n",
    "$$128 + 64 + 0 + 16 + 8 + 0 + 2 + 0 = 218$$"
   ]
  },
  {
   "cell_type": "markdown",
   "metadata": {},
   "source": [
    "If you want to translate a number to a non-base 10 system, the above concept stays the same. However, you must take care to translate the resulting values into the base you are translating to. Addition must also occur in the target base. To illustrate this, lets translate 11011010 from base 2 to base 3.\n",
    "\n",
    "$$1 * 2^7 + 1 * 2^6 + 0 * 2^5 + 1 * 2^4 + 1 * 2^3 + 0 * 2^2 + 1 * 2^1 + 0 * 2^0$$\n",
    "\n",
    "$$11202 + 2101 + 0 + 121 + 22 + 0 + 2 + 0$$\n",
    "\n",
    "$$22002$$\n",
    "\n",
    "If you translate this from base 3 to base 10, you'll get 218, which was the value we got from translating from base 2 to base 10."
   ]
  },
  {
   "cell_type": "markdown",
   "metadata": {},
   "source": [
    "__Translating numbers to base 2__\n",
    "\n",
    "In the previous example we only translated from lower bases to higher bases. What if we want to go from base 10 to base 2?"
   ]
  },
  {
   "cell_type": "markdown",
   "metadata": {},
   "source": [
    "#### __Bit-Fixing Cont.__"
   ]
  },
  {
   "cell_type": "markdown",
   "metadata": {},
   "source": [
    "What how does it work\n",
    "\n"
   ]
  },
  {
   "cell_type": "markdown",
   "metadata": {},
   "source": [
    "#### __Applying it to our algorithm for attendance__"
   ]
  },
  {
   "cell_type": "markdown",
   "metadata": {},
   "source": [
    "how are we using it"
   ]
  },
  {
   "cell_type": "markdown",
   "metadata": {},
   "source": [
    "#### __Other algorithms that use this sort of permutation__"
   ]
  },
  {
   "cell_type": "markdown",
   "metadata": {},
   "source": [
    "prefix sum\n",
    "ffts\n",
    "broadcast, gather, the comms"
   ]
  },
  {
   "cell_type": "markdown",
   "metadata": {},
   "source": [
    "### __Try applying it to these problems__"
   ]
  },
  {
   "cell_type": "markdown",
   "metadata": {},
   "source": [
    "### __What's so special about bit-fixing?__"
   ]
  }
 ],
 "metadata": {
  "language_info": {
   "name": "python"
  },
  "orig_nbformat": 4
 },
 "nbformat": 4,
 "nbformat_minor": 2
}
